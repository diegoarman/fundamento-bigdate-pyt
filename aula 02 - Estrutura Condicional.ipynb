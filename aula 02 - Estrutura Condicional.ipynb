{
 "cells": [
  {
   "cell_type": "markdown",
   "id": "01c1dea7",
   "metadata": {},
   "source": [
    "## Exercício 01 \n",
    "– Crie uma variável chamada \"idade\" e atribua um valor inteiro a ela. Verifique se a idade é maior ou igual a 18 e imprima \"Maior de idade\" ou \"Menor de idade\" de acordo com a condição."
   ]
  },
  {
   "cell_type": "code",
   "execution_count": null,
   "id": "d1dd8bca",
   "metadata": {},
   "outputs": [],
   "source": [
    "idade = 20\n",
    "\n",
    "if idade >= 18:\n",
    "    print('Maior de idade')\n",
    "else:\n",
    "    print('Menor de idade')"
   ]
  },
  {
   "cell_type": "markdown",
   "id": "b3167f78",
   "metadata": {},
   "source": [
    "## Exercício 02 \n",
    "- Crie uma variável chamada \"número\" e atribua um valor inteiro a ela. Verifique se o número é positivo, negativo ou zero e imprima a mensagem correspondente."
   ]
  },
  {
   "cell_type": "code",
   "execution_count": null,
   "id": "3b33a98d",
   "metadata": {},
   "outputs": [],
   "source": [
    "numero = 12\n",
    "\n",
    "# Se o numero for maior que zero\n",
    "if numero > 0:\n",
    "    print('positivo')\n",
    "else:\n",
    "    print('negativo')\n",
    "    \n",
    "# verficar se o número é positivo, negativo ou nulo\n",
    "\n",
    "num = 0\n",
    "\n",
    "if num > 0:\n",
    "    print('positivo')\n",
    "elif num < 0:\n",
    "    print('negativo')\n",
    "else:\n",
    "    print('nulo')"
   ]
  },
  {
   "cell_type": "markdown",
   "id": "b2db3a23",
   "metadata": {},
   "source": [
    "## Exercício 03 \n",
    "- Crie duas variáveis, \"nota1\" e \"nota2\", e atribua valores numéricos a elas. Verifique se a média das notas é maior ou igual a 7 e imprima \"Aprovado\" ou \"Reprovado\" de acordo com a condição"
   ]
  },
  {
   "cell_type": "code",
   "execution_count": null,
   "id": "1e2aeee2",
   "metadata": {},
   "outputs": [],
   "source": [
    "nota_1 = input('digite a nota 01:')\n",
    "nota_2 = input('digite a nota 02:')\n",
    "\n",
    "# converte os dados para float (Número Decimal)\n",
    "nota_1 = float(nota_1)\n",
    "nota_2 = float(nota_2)\n",
    "\n",
    "media = (nota_1 + nota_2)/2\n",
    "\n",
    "if media >= 7:\n",
    "    print('Aprovado')\n",
    "else:\n",
    "    print('Reprovado')"
   ]
  },
  {
   "cell_type": "markdown",
   "id": "02ad4ad3",
   "metadata": {},
   "source": [
    "## Exercício 04 \n",
    "- Crie uma variável chamada \"idade\" e atribua um valor inteiro a ela. Verifique se a idade está dentro do intervalo de 18 a 30 (inclusive) e imprima a mensagem \"Idade válida\" ou \"Idade inválida\" de acordo com a condição."
   ]
  },
  {
   "cell_type": "code",
   "execution_count": null,
   "id": "f8d7a4f5",
   "metadata": {},
   "outputs": [],
   "source": [
    "idade = input('digite sua idade')\n",
    "\n",
    "#converter em valor inteiro\n",
    "idade =  int(idade)\n",
    "\n",
    "if idade >= 18 and idade <= 30:\n",
    "    print('idade válida!')\n",
    "else:\n",
    "    print('idade inválida!')\n"
   ]
  },
  {
   "cell_type": "markdown",
   "id": "fa0b11b5",
   "metadata": {},
   "source": [
    "## Exercício 05\n",
    "- Crie uma variável chamada \"numero\" e atribua um valor inteiro a ela. Verifique se o número é par ou ímpar e imprima a mensagem correspondente."
   ]
  },
  {
   "cell_type": "code",
   "execution_count": null,
   "id": "ada1ad0c",
   "metadata": {},
   "outputs": [],
   "source": [
    "numero = input('digite um numero:')\n",
    "numero = int(numero) # converte em número inteiro\n",
    "\n",
    "if numero % 2 == 0:\n",
    "    print (\"Par\")\n",
    "else:\n",
    "    print(\"ímpar\")"
   ]
  },
  {
   "cell_type": "markdown",
   "id": "c523606d",
   "metadata": {},
   "source": [
    "## Exercício 06 \n",
    "- Crie uma variável chamada \"horario\" e atribua um valor inteiro representando a hora do dia (em formato 24 horas). Verifique se o horário está dentro do período da manhã (das 6h às 12h), da tarde (das 12h às 18h) ou da noite (das 18h às 23h) e imprima a mensagem correspondente."
   ]
  },
  {
   "cell_type": "code",
   "execution_count": null,
   "id": "a4825fc3",
   "metadata": {},
   "outputs": [],
   "source": [
    "horario = input('digite um horário:')\n",
    "horario = int(horario)\n",
    "\n",
    "if horario >= 6 and horario < 12:\n",
    "    print('bom dia!')\n",
    "elif horario >= 12 and horario < 18:\n",
    "    print('boa tarde!')\n",
    "elif horario >= 18 and horario <= 23:\n",
    "    print('boa noite!')\n",
    "elif horario > 0 and horario < 6:\n",
    "    print('chegou cedooo!')\n",
    "        "
   ]
  },
  {
   "cell_type": "markdown",
   "id": "be61cbad",
   "metadata": {},
   "source": [
    "## Exercício 07 \n",
    "- Crie uma variável chamada \"peso\" e atribua um valor numérico a ela. Verifique se o peso está dentro do intervalo de 50 a 100 (inclusive) e imprima a mensagem \"Peso válido\" ou \"Peso inválido\" de acordo com a condição."
   ]
  },
  {
   "cell_type": "code",
   "execution_count": 1,
   "id": "a0de6fa4",
   "metadata": {},
   "outputs": [
    {
     "name": "stdout",
     "output_type": "stream",
     "text": [
      "digite o peso:51\n",
      "peso invalido\n"
     ]
    }
   ],
   "source": [
    "peso = input('digite o peso:')\n",
    "peso = int(peso)\n",
    "\n",
    "if peso <= 50 and peso <= 100:\n",
    "    print('peso valido')\n",
    "else:\n",
    "    print('peso invalido')"
   ]
  },
  {
   "cell_type": "markdown",
   "id": "8cf8cb96",
   "metadata": {},
   "source": [
    "## Exercício 11 \n",
    "- Faça um Programa que peça dois números e imprima o maior deles."
   ]
  },
  {
   "cell_type": "code",
   "execution_count": 2,
   "id": "a95b9a91",
   "metadata": {},
   "outputs": [
    {
     "name": "stdout",
     "output_type": "stream",
     "text": [
      "digite oprimeiro numero15\n",
      "digite o segundo numero12\n",
      "o maior valo é 15 e o menor é 12.\n"
     ]
    }
   ],
   "source": [
    "num1 = input('digite o primeiro numero')\n",
    "num2 = input('digite o segundo numero')\n",
    "\n",
    "num1 = int(num1)\n",
    "num2 = int(num2)\n",
    "\n",
    "if num1 > num2:\n",
    "    print(f'o maior valor é {num1} e o menor é {num2}.')\n",
    "else:\n",
    "    print(f'o maior valor é {num2} e o menor é {num1}.')\n",
    "    "
   ]
  },
  {
   "cell_type": "markdown",
   "id": "603f0a13",
   "metadata": {},
   "source": [
    "## Exercício 16 \n",
    "- Faça um Programa que leia três números e mostre o maior deles."
   ]
  },
  {
   "cell_type": "code",
   "execution_count": 6,
   "id": "50b561cc",
   "metadata": {},
   "outputs": [
    {
     "ename": "SyntaxError",
     "evalue": "invalid syntax (2983587491.py, line 11)",
     "output_type": "error",
     "traceback": [
      "\u001b[1;36m  Cell \u001b[1;32mIn[6], line 11\u001b[1;36m\u001b[0m\n\u001b[1;33m    elif:\u001b[0m\n\u001b[1;37m        ^\u001b[0m\n\u001b[1;31mSyntaxError\u001b[0m\u001b[1;31m:\u001b[0m invalid syntax\n"
     ]
    }
   ],
   "source": [
    "num1 = input('digite o primeiro numero')\n",
    "num2 = input('digite o segundo numero')\n",
    "num3 = input('digite o terceiro numero')\n",
    "\n",
    "num1 = int(num1)\n",
    "num2 = int(num2)\n",
    "num3 = int(num3)\n",
    "\n",
    "if num1 > num2 > num3:\n",
    "    print(f'o maior valor é {num1} e o menor é {num2}.')\n",
    "elif:\n",
    "    print(f'o maior valor é {num2} e o menor é {num1}.')\n",
    "else: \n",
    "    print(f'o maior valor é {num1} e o menor é {num3}.')"
   ]
  },
  {
   "cell_type": "code",
   "execution_count": null,
   "id": "e939b458",
   "metadata": {},
   "outputs": [],
   "source": []
  }
 ],
 "metadata": {
  "kernelspec": {
   "display_name": "Python 3 (ipykernel)",
   "language": "python",
   "name": "python3"
  },
  "language_info": {
   "codemirror_mode": {
    "name": "ipython",
    "version": 3
   },
   "file_extension": ".py",
   "mimetype": "text/x-python",
   "name": "python",
   "nbconvert_exporter": "python",
   "pygments_lexer": "ipython3",
   "version": "3.10.9"
  }
 },
 "nbformat": 4,
 "nbformat_minor": 5
}
