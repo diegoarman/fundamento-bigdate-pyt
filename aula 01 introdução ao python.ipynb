{
 "cells": [
  {
   "cell_type": "markdown",
   "id": "be27b96a",
   "metadata": {},
   "source": [
    "# Primeira aula de Python no Senai\n",
    " Estou Empolgado"
   ]
  },
  {
   "cell_type": "code",
   "execution_count": 3,
   "id": "34feee44",
   "metadata": {
    "scrolled": true
   },
   "outputs": [
    {
     "name": "stdout",
     "output_type": "stream",
     "text": [
      "hello, word!\n"
     ]
    }
   ],
   "source": [
    "print('hello, word!')"
   ]
  },
  {
   "cell_type": "markdown",
   "id": "67b2800c",
   "metadata": {},
   "source": [
    "Declarando variáveis"
   ]
  },
  {
   "cell_type": "code",
   "execution_count": 50,
   "id": "e19436db",
   "metadata": {},
   "outputs": [],
   "source": [
    "a = 10\n",
    "b = 'Diego'\n",
    "c = 0.5\n",
    "d =['Abelha','Beterraba', 'Churrasco']"
   ]
  },
  {
   "cell_type": "code",
   "execution_count": 52,
   "id": "b97fe951",
   "metadata": {},
   "outputs": [
    {
     "data": {
      "text/plain": [
       "list"
      ]
     },
     "execution_count": 52,
     "metadata": {},
     "output_type": "execute_result"
    }
   ],
   "source": [
    "type(d)"
   ]
  },
  {
   "cell_type": "code",
   "execution_count": 53,
   "id": "f91d7425",
   "metadata": {},
   "outputs": [
    {
     "name": "stdout",
     "output_type": "stream",
     "text": [
      "['Abelha', 'Beterraba', 'Churrasco']\n"
     ]
    }
   ],
   "source": [
    "print(d)"
   ]
  },
  {
   "cell_type": "markdown",
   "id": "c74a4923",
   "metadata": {},
   "source": [
    "## Exercício 01\n",
    "Crie um programa para receber dois valores e em seguida, exiba o valor\n",
    "da soma."
   ]
  },
  {
   "cell_type": "code",
   "execution_count": 31,
   "id": "e8802874",
   "metadata": {},
   "outputs": [],
   "source": [
    "num1 = 10\n",
    "num2 = 5\n",
    "\n",
    "soma = num1 + num2 "
   ]
  },
  {
   "cell_type": "code",
   "execution_count": 32,
   "id": "266d8197",
   "metadata": {},
   "outputs": [
    {
     "name": "stdout",
     "output_type": "stream",
     "text": [
      "15\n"
     ]
    }
   ],
   "source": [
    "print(soma)"
   ]
  },
  {
   "cell_type": "markdown",
   "id": "e161665c",
   "metadata": {},
   "source": [
    "## Exercício 02 \n",
    "– Crie um programa para receber dois valores e em seguida, exiba o valor\n",
    "da diferença entre eles."
   ]
  },
  {
   "cell_type": "code",
   "execution_count": 57,
   "id": "0a98d993",
   "metadata": {},
   "outputs": [],
   "source": [
    "num1 = 10\n",
    "num2 = 5\n",
    "\n",
    "soma = num1 - num2"
   ]
  },
  {
   "cell_type": "code",
   "execution_count": 56,
   "id": "e0102bd7",
   "metadata": {},
   "outputs": [
    {
     "name": "stdout",
     "output_type": "stream",
     "text": [
      "5\n"
     ]
    }
   ],
   "source": [
    "print(soma)"
   ]
  },
  {
   "cell_type": "markdown",
   "id": "9dd650c4",
   "metadata": {},
   "source": [
    "## Exercício 03 \n",
    "– Crie um programa para receber dois valores e em seguida, exiba o\n",
    "produto entre eles."
   ]
  },
  {
   "cell_type": "code",
   "execution_count": 38,
   "id": "da737af4",
   "metadata": {},
   "outputs": [],
   "source": [
    "num1 = 10\n",
    "num2 = 5\n",
    "\n",
    "produto = num1 * num2"
   ]
  },
  {
   "cell_type": "code",
   "execution_count": 39,
   "id": "e6c9b90e",
   "metadata": {},
   "outputs": [
    {
     "name": "stdout",
     "output_type": "stream",
     "text": [
      "50\n"
     ]
    }
   ],
   "source": [
    "print(produto)"
   ]
  },
  {
   "cell_type": "markdown",
   "id": "a3d02e33",
   "metadata": {},
   "source": [
    "## Exercício 04 \n",
    "- Crie um programa para receber dois valores e em seguida, exiba o\n",
    "quociente entre eles."
   ]
  },
  {
   "cell_type": "code",
   "execution_count": 40,
   "id": "7fc0bfe0",
   "metadata": {},
   "outputs": [],
   "source": [
    "num1 = 10\n",
    "num2 = 5\n",
    "\n",
    "quociente = num1 / num2"
   ]
  },
  {
   "cell_type": "code",
   "execution_count": 41,
   "id": "bd702b7e",
   "metadata": {},
   "outputs": [
    {
     "name": "stdout",
     "output_type": "stream",
     "text": [
      "2.0\n"
     ]
    }
   ],
   "source": [
    "print(quociente)"
   ]
  },
  {
   "cell_type": "markdown",
   "id": "3d699e77",
   "metadata": {},
   "source": [
    "## Exercício 05 \n",
    "- Crie um programa para receber dois valores e em seguida, exiba o resto\n",
    "da divisão entre eles."
   ]
  },
  {
   "cell_type": "code",
   "execution_count": 42,
   "id": "0f7a8f9b",
   "metadata": {},
   "outputs": [],
   "source": [
    "num1 = 10\n",
    "num2 = 3\n",
    "resto = num1 % num2"
   ]
  },
  {
   "cell_type": "code",
   "execution_count": 43,
   "id": "2e14fe4e",
   "metadata": {},
   "outputs": [
    {
     "name": "stdout",
     "output_type": "stream",
     "text": [
      "1\n"
     ]
    }
   ],
   "source": [
    "print(resto)"
   ]
  },
  {
   "cell_type": "markdown",
   "id": "ce731087",
   "metadata": {},
   "source": [
    "## Exercício 06 \n",
    "- Crie um programa para receber um número e em seguida, exiba o\n",
    "quadrado dele."
   ]
  },
  {
   "cell_type": "code",
   "execution_count": 44,
   "id": "6b81b80a",
   "metadata": {},
   "outputs": [],
   "source": [
    "num = 5\n",
    "quadrado = num ** 2"
   ]
  },
  {
   "cell_type": "code",
   "execution_count": 45,
   "id": "bb31c296",
   "metadata": {},
   "outputs": [
    {
     "name": "stdout",
     "output_type": "stream",
     "text": [
      "25\n"
     ]
    }
   ],
   "source": [
    "print(quadrado)"
   ]
  },
  {
   "cell_type": "markdown",
   "id": "3a2bb685",
   "metadata": {},
   "source": [
    "## Exercício 07 \n",
    "– Elabora um programa para calcular a raiz quadrada de um número,\n",
    "utilizando a biblioteca math."
   ]
  },
  {
   "cell_type": "code",
   "execution_count": 46,
   "id": "e93a6209",
   "metadata": {},
   "outputs": [],
   "source": [
    "import math\n",
    "num = 25\n",
    "raiz_quadrada = math.sqrt(num)"
   ]
  },
  {
   "cell_type": "code",
   "execution_count": 47,
   "id": "d7eafdb1",
   "metadata": {},
   "outputs": [
    {
     "name": "stdout",
     "output_type": "stream",
     "text": [
      "5.0\n"
     ]
    }
   ],
   "source": [
    "print(raiz_quadrada)"
   ]
  },
  {
   "cell_type": "markdown",
   "id": "edc3d7fc",
   "metadata": {},
   "source": [
    "## Exercício 08 \n",
    "– Crie um programa que seja capaz de calcular o valor absoluto de um\n",
    "número."
   ]
  },
  {
   "cell_type": "code",
   "execution_count": 48,
   "id": "dccff501",
   "metadata": {},
   "outputs": [],
   "source": [
    "num = -5\n",
    "absoluto = abs(num)"
   ]
  },
  {
   "cell_type": "code",
   "execution_count": 49,
   "id": "f434cb5a",
   "metadata": {},
   "outputs": [
    {
     "name": "stdout",
     "output_type": "stream",
     "text": [
      "5\n"
     ]
    }
   ],
   "source": [
    "print(absoluto)"
   ]
  },
  {
   "cell_type": "code",
   "execution_count": null,
   "id": "25b30347",
   "metadata": {},
   "outputs": [],
   "source": [
    "# Isto é comentario\n",
    "# O simbolo % calcula o resto da divisão"
   ]
  },
  {
   "cell_type": "markdown",
   "id": "cfc8a26e",
   "metadata": {},
   "source": [
    "## Exercício 10 \n",
    "- Faça um Programa que converta metros para centímetros."
   ]
  },
  {
   "cell_type": "code",
   "execution_count": 58,
   "id": "ab296444",
   "metadata": {},
   "outputs": [
    {
     "name": "stdout",
     "output_type": "stream",
     "text": [
      "10000\n"
     ]
    }
   ],
   "source": [
    "# receber o valor em metros\n",
    "metros = 100\n",
    "\n",
    "# pegar o valor em metros e multiplicar por 100\n",
    "\n",
    "centimetros = metros * 100\n",
    "\n",
    "# exibir o resultado\n",
    "\n",
    "print(centimetros)"
   ]
  },
  {
   "cell_type": "markdown",
   "id": "69f97633",
   "metadata": {},
   "source": [
    "## Exercício 11 \n",
    "- Faça um Programa que peça o raio de um círculo, calcule e mostre sua\n",
    "área."
   ]
  },
  {
   "cell_type": "code",
   "execution_count": 59,
   "id": "4cf11365",
   "metadata": {},
   "outputs": [
    {
     "name": "stdout",
     "output_type": "stream",
     "text": [
      "1256.0\n"
     ]
    }
   ],
   "source": [
    "# 1. receber o valor do raio\n",
    "raio = 20\n",
    "\n",
    "#2. calcular a área do circulo\n",
    "\n",
    "area_circulo = 3.14 * raio ** 2\n",
    "\n",
    "# 3. exibir a área do circulo\n",
    "\n",
    "print(area_circulo)\n"
   ]
  },
  {
   "cell_type": "markdown",
   "id": "22c6d60e",
   "metadata": {},
   "source": [
    "## Exercício 12 \n",
    "- Faça um Programa que calcule a área de um quadrado, em seguida\n",
    "mostre o dobro desta área para o usuário."
   ]
  },
  {
   "cell_type": "code",
   "execution_count": 62,
   "id": "24eeee9c",
   "metadata": {},
   "outputs": [
    {
     "name": "stdout",
     "output_type": "stream",
     "text": [
      "A área do quadrado é: 100\n",
      "o dobro desta área é 200\n"
     ]
    }
   ],
   "source": [
    "# 1 . receber o lado do quadrado\n",
    "\n",
    "lado = 10\n",
    "\n",
    "# 2. calcular a área do quadrado \n",
    "area_quadrado = lado ** 2\n",
    "\n",
    "# 3. calcular o dobro da área\n",
    "area_dobro = area_quadrado * 2\n",
    "\n",
    "# 3. exibir o resultado da área \n",
    "print('A área do quadrado é:', area_quadrado)\n",
    "print('o dobro desta área é', area_dobro)"
   ]
  },
  {
   "cell_type": "markdown",
   "id": "0b63fce2",
   "metadata": {},
   "source": [
    "## Exercício 13 \n",
    "- Faça um Programa que pergunte quanto você ganha por hora e o número\n",
    "de horas trabalhadas no mês. Calcule e mostre o total do seu salário no referido mês."
   ]
  },
  {
   "cell_type": "code",
   "execution_count": null,
   "id": "90ef7dfa",
   "metadata": {},
   "outputs": [],
   "source": [
    " # 1. Solicitou um valor ao usuário\n",
    "\n",
    "valor_hora = input('informe o quanto você recebe por hora:')\n",
    "valor_hora = int(valor_hora)\n",
    "type(valor_hora)\n",
    "\n",
    "\n"
   ]
  },
  {
   "cell_type": "code",
   "execution_count": null,
   "id": "ecc501df",
   "metadata": {},
   "outputs": [],
   "source": []
  }
 ],
 "metadata": {
  "kernelspec": {
   "display_name": "Python 3 (ipykernel)",
   "language": "python",
   "name": "python3"
  },
  "language_info": {
   "codemirror_mode": {
    "name": "ipython",
    "version": 3
   },
   "file_extension": ".py",
   "mimetype": "text/x-python",
   "name": "python",
   "nbconvert_exporter": "python",
   "pygments_lexer": "ipython3",
   "version": "3.10.9"
  }
 },
 "nbformat": 4,
 "nbformat_minor": 5
}
